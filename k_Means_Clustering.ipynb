{
  "nbformat": 4,
  "nbformat_minor": 0,
  "metadata": {
    "colab": {
      "provenance": []
    },
    "kernelspec": {
      "name": "python3",
      "display_name": "Python 3"
    },
    "language_info": {
      "name": "python"
    }
  },
  "cells": [
    {
      "cell_type": "markdown",
      "source": [
        "#**1. Loading and Inspecting the Dataset**\n",
        "\n",
        "\n",
        "You start by loading the dataset and inspecting its structure to understand what kind of data you're working with. This includes checking the data types to ensure the correct features are used for clustering."
      ],
      "metadata": {
        "id": "MCClBrtVzI9u"
      }
    },
    {
      "cell_type": "code",
      "source": [
        "import pandas as pd\n",
        "\n",
        "# Load the dataset\n",
        "data = pd.read_csv('Mall_Customers.csv')\n",
        "\n",
        "# Display the rows of the dataset\n",
        "print(data)\n"
      ],
      "metadata": {
        "colab": {
          "base_uri": "https://localhost:8080/"
        },
        "id": "r5bsr6uvs_Y2",
        "outputId": "1f9c0787-130e-4d2e-bc9e-c3a3a9232488"
      },
      "execution_count": 153,
      "outputs": [
        {
          "output_type": "stream",
          "name": "stdout",
          "text": [
            "     CustomerID  Gender  Age  Annual Income (k$)  Spending Score (1-100)\n",
            "0             1    Male   19                  15                      39\n",
            "1             2    Male   21                  15                      81\n",
            "2             3  Female   20                  16                       6\n",
            "3             4  Female   23                  16                      77\n",
            "4             5  Female   31                  17                      40\n",
            "..          ...     ...  ...                 ...                     ...\n",
            "195         196  Female   35                 120                      79\n",
            "196         197  Female   45                 126                      28\n",
            "197         198    Male   32                 126                      74\n",
            "198         199    Male   32                 137                      18\n",
            "199         200    Male   30                 137                      83\n",
            "\n",
            "[200 rows x 5 columns]\n"
          ]
        }
      ]
    },
    {
      "cell_type": "markdown",
      "source": [
        "#**2. Selecting Numeric Features and Checking for Missing Values**\n",
        "\n",
        "You select numeric features for clustering and check for any missing values in the dataset. This ensures that the data used for clustering is clean."
      ],
      "metadata": {
        "id": "Fd_yHnMYz2Qa"
      }
    },
    {
      "cell_type": "code",
      "source": [
        "print(data.dtypes)"
      ],
      "metadata": {
        "colab": {
          "base_uri": "https://localhost:8080/"
        },
        "id": "SbqbYc-QxMyK",
        "outputId": "29575397-fd48-4683-cec1-c4dcef7e6d55"
      },
      "execution_count": 154,
      "outputs": [
        {
          "output_type": "stream",
          "name": "stdout",
          "text": [
            "CustomerID                 int64\n",
            "Gender                    object\n",
            "Age                        int64\n",
            "Annual Income (k$)         int64\n",
            "Spending Score (1-100)     int64\n",
            "dtype: object\n"
          ]
        }
      ]
    },
    {
      "cell_type": "code",
      "source": [
        "# Display data types of numeric features\n",
        "numeric_features = data.select_dtypes(include=['int64', 'float64'])\n",
        "print(numeric_features.dtypes)"
      ],
      "metadata": {
        "colab": {
          "base_uri": "https://localhost:8080/"
        },
        "id": "pmeWoXU8xR6L",
        "outputId": "75d895f3-85f9-447f-9907-bb0e8a307aa4"
      },
      "execution_count": 155,
      "outputs": [
        {
          "output_type": "stream",
          "name": "stdout",
          "text": [
            "CustomerID                int64\n",
            "Age                       int64\n",
            "Annual Income (k$)        int64\n",
            "Spending Score (1-100)    int64\n",
            "dtype: object\n"
          ]
        }
      ]
    },
    {
      "cell_type": "code",
      "source": [
        "# Check for missing values\n",
        "print(data.isnull().sum())"
      ],
      "metadata": {
        "colab": {
          "base_uri": "https://localhost:8080/"
        },
        "id": "sJv0qyCJ0Qph",
        "outputId": "e8d2fb12-d21c-4203-e561-ea2bb0e3c2a8"
      },
      "execution_count": 156,
      "outputs": [
        {
          "output_type": "stream",
          "name": "stdout",
          "text": [
            "CustomerID                0\n",
            "Gender                    0\n",
            "Age                       0\n",
            "Annual Income (k$)        0\n",
            "Spending Score (1-100)    0\n",
            "dtype: int64\n"
          ]
        }
      ]
    },
    {
      "cell_type": "markdown",
      "source": [
        "#**3. Feature Selection and Normalization**\n",
        "\n",
        "You select relevant features for clustering and normalize the data to standardize the feature scales, which is important for distance-based algorithms like K-Means."
      ],
      "metadata": {
        "id": "FmoNwMXZ0ml0"
      }
    },
    {
      "cell_type": "code",
      "source": [
        "# Select relevant features for clustering\n",
        "features = data[['Annual Income (k$)', 'Spending Score (1-100)']]\n",
        "\n",
        "# Normalize the data\n",
        "from sklearn.preprocessing import StandardScaler\n",
        "\n",
        "scaler = StandardScaler()\n",
        "data_scaled = scaler.fit_transform(features)\n",
        "\n",
        "print(data_scaled[:5])\n"
      ],
      "metadata": {
        "colab": {
          "base_uri": "https://localhost:8080/"
        },
        "id": "8rK1v9WOuyj4",
        "outputId": "eb86b3e6-4d99-4e48-f7b4-f5f17ee264e1"
      },
      "execution_count": 157,
      "outputs": [
        {
          "output_type": "stream",
          "name": "stdout",
          "text": [
            "[[-1.73899919 -0.43480148]\n",
            " [-1.73899919  1.19570407]\n",
            " [-1.70082976 -1.71591298]\n",
            " [-1.70082976  1.04041783]\n",
            " [-1.66266033 -0.39597992]]\n"
          ]
        }
      ]
    },
    {
      "cell_type": "markdown",
      "source": [
        "#**4. K-Means Clustering and Elbow Method**\n",
        "\n",
        "You use the Elbow Method to determine the optimal number of clusters by plotting the WCSS (Within-Cluster Sum of Squares) for different numbers of clusters.\n",
        "\n",
        "\n",
        "##**Understanding the Elbow Method for K-Means Clustering**\n",
        "\n",
        "The Elbow Method is used to determine the optimal number of clusters\n",
        "𝑘\n",
        "k in a dataset. It helps to identify a suitable value of\n",
        "𝑘\n",
        "k by plotting the Within-Cluster Sum of Squares (WCSS) against different values of\n",
        "𝑘\n",
        "k and finding the \"elbow\" point where the rate of decrease sharply slows down."
      ],
      "metadata": {
        "id": "tomepq8O0yLw"
      }
    },
    {
      "cell_type": "code",
      "source": [
        "from sklearn.cluster import KMeans\n",
        "import matplotlib.pyplot as plt\n",
        "\n",
        "wcss = []  # stores the Within-Cluster Sum of Squares for each K value.\n",
        "k = range(1, 11)\n",
        "\n",
        "# Test K values from 1 to 10\n",
        "for i in k:\n",
        "    kmeans = KMeans(n_clusters=i,\n",
        "                    init='k-means++',\n",
        "                    max_iter=300,\n",
        "                    n_init=10,\n",
        "                    random_state=0)\n",
        "\n",
        "    kmeans.fit(data_scaled)\n",
        "    wcss.append(kmeans.inertia_)\n",
        "\n",
        "# Plot the Elbow Method graph\n",
        "plt.plot(k, wcss, marker='o')\n",
        "plt.title('Elbow Method for optimal k')\n",
        "plt.xlabel('Number of Clusters')\n",
        "plt.ylabel('WCSS')\n",
        "plt.show()\n"
      ],
      "metadata": {
        "colab": {
          "base_uri": "https://localhost:8080/",
          "height": 472
        },
        "id": "rzE2yRWcvLFo",
        "outputId": "ef055a47-3445-4395-94bc-96b07671a428"
      },
      "execution_count": 162,
      "outputs": [
        {
          "output_type": "display_data",
          "data": {
            "text/plain": [
              "<Figure size 640x480 with 1 Axes>"
            ],
            "image/png": "[encoded data removed]"
          },
          "metadata": {}
        }
      ]
    },
    {
      "cell_type": "code",
      "source": [
        "pip install kneed"
      ],
      "metadata": {
        "colab": {
          "base_uri": "https://localhost:8080/"
        },
        "id": "FDkGj9mzQvEv",
        "outputId": "0038b3c1-50ab-4ca9-d4fd-05ff5cb70f78"
      },
      "execution_count": 146,
      "outputs": [
        {
          "output_type": "stream",
          "name": "stdout",
          "text": [
            "Requirement already satisfied: kneed in /usr/local/lib/python3.10/dist-packages (0.8.5)\n",
            "Requirement already satisfied: numpy>=1.14.2 in /usr/local/lib/python3.10/dist-packages (from kneed) (1.26.4)\n",
            "Requirement already satisfied: scipy>=1.0.0 in /usr/local/lib/python3.10/dist-packages (from kneed) (1.13.1)\n"
          ]
        }
      ]
    },
    {
      "cell_type": "code",
      "source": [
        "# Find the elbow point using KneeLocator from the kneed package\n",
        "from kneed import KneeLocator\n",
        "\n",
        "kneedle = KneeLocator(k, wcss, curve=\"convex\", direction=\"decreasing\")\n",
        "optimal_k = kneedle.elbow\n",
        "print(f'The optimal number of clusters is: {optimal_k}')"
      ],
      "metadata": {
        "colab": {
          "base_uri": "https://localhost:8080/"
        },
        "id": "ICu6TKWmQk56",
        "outputId": "f7c3e3a9-10a9-4cf7-e4df-255cb3f8d7d9"
      },
      "execution_count": 159,
      "outputs": [
        {
          "output_type": "stream",
          "name": "stdout",
          "text": [
            "The optimal number of clusters is: 5\n"
          ]
        }
      ]
    },
    {
      "cell_type": "markdown",
      "source": [
        "#**5. Applying K-Means with the Chosen Number of Clusters**\n",
        "\n",
        "You apply K-Means clustering with the chosen number of clusters and add the cluster labels to the original dataset."
      ],
      "metadata": {
        "id": "Je0fhnK6TPgX"
      }
    },
    {
      "cell_type": "code",
      "source": [
        "# Apply K-Means with the chosen number of clusters\n",
        "kmeans = KMeans(n_clusters=optimal_k, init='k-means++', max_iter=300, n_init=10, random_state=0)\n",
        "clusters = kmeans.fit_predict(data_scaled)\n",
        "\n",
        "# Add the cluster labels to the original dataset\n",
        "data['Cluster'] = clusters\n",
        "print(data.head())\n"
      ],
      "metadata": {
        "colab": {
          "base_uri": "https://localhost:8080/"
        },
        "id": "O5fR47OZvRZp",
        "outputId": "94bd502f-8b87-434b-c521-05e935f3c4e9"
      },
      "execution_count": 160,
      "outputs": [
        {
          "output_type": "stream",
          "name": "stdout",
          "text": [
            "   CustomerID  Gender  Age  Annual Income (k$)  Spending Score (1-100)  \\\n",
            "0           1    Male   19                  15                      39   \n",
            "1           2    Male   21                  15                      81   \n",
            "2           3  Female   20                  16                       6   \n",
            "3           4  Female   23                  16                      77   \n",
            "4           5  Female   31                  17                      40   \n",
            "\n",
            "   Cluster  \n",
            "0        3  \n",
            "1        4  \n",
            "2        3  \n",
            "3        4  \n",
            "4        3  \n"
          ]
        }
      ]
    },
    {
      "cell_type": "markdown",
      "source": [
        "#**6. Dimensionality Reduction and Visualization**\n",
        "\n",
        "You use PCA to reduce the data to 2 dimensions for visualization and plot the clusters to understand their distribution."
      ],
      "metadata": {
        "id": "x5_J3QBKTa4V"
      }
    },
    {
      "cell_type": "code",
      "source": [
        "from sklearn.decomposition import PCA\n",
        "\n",
        "# Reduce the data to 2 dimensions for visualization\n",
        "pca = PCA(n_components=2)\n",
        "pca_data = pca.fit_transform(data_scaled)\n",
        "print(pca_data[0:10])"
      ],
      "metadata": {
        "colab": {
          "base_uri": "https://localhost:8080/"
        },
        "id": "4uHKD6zNvYU-",
        "outputId": "a026283c-3516-43ca-bed6-97f433023d40"
      },
      "execution_count": 169,
      "outputs": [
        {
          "output_type": "stream",
          "name": "stdout",
          "text": [
            "[[-1.5371092  -0.92220705]\n",
            " [-0.38416767 -2.07514858]\n",
            " [-2.41600197  0.01066545]\n",
            " [-0.46698176 -1.93835476]\n",
            " [-1.45567848 -0.89567831]\n",
            " [-0.46744289 -1.88391391]\n",
            " [-2.36202224  0.06464517]\n",
            " [ 0.05366478 -2.35104185]\n",
            " [-2.41738535  0.173988  ]\n",
            " [-0.52326712 -1.72013023]]\n"
          ]
        }
      ]
    },
    {
      "cell_type": "code",
      "source": [
        "# Plot the clusters\n",
        "plt.scatter(pca_data[:, 0], pca_data[:, 1], c=data['Cluster'], cmap='viridis')\n",
        "plt.title('Customer Segments')\n",
        "plt.xlabel('PCA 1')\n",
        "plt.ylabel('PCA 2')\n",
        "plt.show()"
      ],
      "metadata": {
        "id": "eMqwRnFNGqsF",
        "outputId": "5065d4d9-c92a-4497-dbdd-c9250bf6e53f",
        "colab": {
          "base_uri": "https://localhost:8080/",
          "height": 472
        }
      },
      "execution_count": 170,
      "outputs": [
        {
          "output_type": "display_data",
          "data": {
            "text/plain": [
              "<Figure size 640x480 with 1 Axes>"
            ],
            "image/png": "[encoded data removed]"
          },
          "metadata": {}
        }
      ]
    },
    {
      "cell_type": "code",
      "source": [
        "print(data)"
      ],
      "metadata": {
        "colab": {
          "base_uri": "https://localhost:8080/"
        },
        "id": "C-GnzD_wSQIC",
        "outputId": "27d02afc-a61e-4037-f51b-1c7821ed6ad8"
      },
      "execution_count": 171,
      "outputs": [
        {
          "output_type": "stream",
          "name": "stdout",
          "text": [
            "     CustomerID  Gender  Age  Annual Income (k$)  Spending Score (1-100)  \\\n",
            "0             1    Male   19                  15                      39   \n",
            "1             2    Male   21                  15                      81   \n",
            "2             3  Female   20                  16                       6   \n",
            "3             4  Female   23                  16                      77   \n",
            "4             5  Female   31                  17                      40   \n",
            "..          ...     ...  ...                 ...                     ...   \n",
            "195         196  Female   35                 120                      79   \n",
            "196         197  Female   45                 126                      28   \n",
            "197         198    Male   32                 126                      74   \n",
            "198         199    Male   32                 137                      18   \n",
            "199         200    Male   30                 137                      83   \n",
            "\n",
            "     Cluster  \n",
            "0          3  \n",
            "1          4  \n",
            "2          3  \n",
            "3          4  \n",
            "4          3  \n",
            "..       ...  \n",
            "195        1  \n",
            "196        2  \n",
            "197        1  \n",
            "198        2  \n",
            "199        1  \n",
            "\n",
            "[200 rows x 6 columns]\n"
          ]
        }
      ]
    },
    {
      "cell_type": "markdown",
      "source": [
        "#**7. Calculating Mean Values for Each Cluster**\n",
        "\n",
        "You calculate the mean values of features for each cluster to understand the characteristics of each cluster."
      ],
      "metadata": {
        "id": "SNtf7g3BTks-"
      }
    },
    {
      "cell_type": "code",
      "source": [
        "data_for_mean = data.drop(columns=['Gender', 'CustomerID'])"
      ],
      "metadata": {
        "id": "gIWIQ40Rx1EY"
      },
      "execution_count": 172,
      "outputs": []
    },
    {
      "cell_type": "code",
      "source": [
        "cluster_means = data_for_mean.groupby('Cluster').mean()\n",
        "print(cluster_means)"
      ],
      "metadata": {
        "colab": {
          "base_uri": "https://localhost:8080/"
        },
        "id": "6sAJDsW8x3UJ",
        "outputId": "19eefde0-2e63-45e8-c28b-08e81130a1c6"
      },
      "execution_count": 173,
      "outputs": [
        {
          "output_type": "stream",
          "name": "stdout",
          "text": [
            "               Age  Annual Income (k$)  Spending Score (1-100)\n",
            "Cluster                                                       \n",
            "0        42.716049           55.296296               49.518519\n",
            "1        32.692308           86.538462               82.128205\n",
            "2        41.114286           88.200000               17.114286\n",
            "3        45.217391           26.304348               20.913043\n",
            "4        25.272727           25.727273               79.363636\n"
          ]
        }
      ]
    }
  ]
}